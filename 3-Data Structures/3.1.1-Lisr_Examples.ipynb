{
 "cells": [
  {
   "cell_type": "markdown",
   "metadata": {},
   "source": [
    "##### Example 1. Manage A To Do List\n",
    "- Create a To Do List To Keep Track OF Tasks  \n",
    "   1.Create to_do_list  \n",
    "   2.Add the Task  \n",
    "   3.Remove the Completed Task  \n",
    "   4.checking if a task is in the list  \n",
    "   5.Print the list  "
   ]
  },
  {
   "cell_type": "code",
   "execution_count": 1,
   "metadata": {},
   "outputs": [
    {
     "name": "stdout",
     "output_type": "stream",
     "text": [
      "Don't forget to pay the utility bills\n",
      "To Do List Remaining\n",
      "buy Groceries\n",
      "Pay Bills\n",
      "Schedule Meeting\n",
      "Go To Run\n"
     ]
    }
   ],
   "source": [
    "to_do_list=[\"buy Groceries\",\"Clean the House\",\"Pay Bills\"]\n",
    "\n",
    "## Adding to task\n",
    "to_do_list.append(\"Schedule Meeting\")\n",
    "to_do_list.append(\"Go To Run\")\n",
    "\n",
    "## Removing the completed Task\n",
    "to_do_list.remove(\"Clean the House\")\n",
    "\n",
    "## Checking if a task is in the List\n",
    "if \"Pay Bills\" in to_do_list:\n",
    "    print(\"Don't forget to pay the utility bills\")\n",
    "\n",
    "print(\"To Do List Remaining\")\n",
    "for task in to_do_list:\n",
    "    print(f\"{task}\")"
   ]
  },
  {
   "cell_type": "markdown",
   "metadata": {},
   "source": [
    "##### Example 2: Organizing Student Grades\n",
    "- Create a list to store and calculate average grades for students"
   ]
  },
  {
   "cell_type": "code",
   "execution_count": 3,
   "metadata": {},
   "outputs": [
    {
     "name": "stdout",
     "output_type": "stream",
     "text": [
      "Aveage Grades :88.0\n",
      "Highest Grade : 95\n",
      "Lowest Grade :78\n"
     ]
    }
   ],
   "source": [
    "## organizing student grade\n",
    "grades=[85,92,78,90,88]\n",
    "\n",
    "## Adding the new grades\n",
    "grades.append(95)\n",
    "\n",
    "## Calculate Average Grades for Student\n",
    "avearge_grade=sum(grades)/len(grades)\n",
    "print(f\"Aveage Grades :{avearge_grade}\")\n",
    "\n",
    "## Print the Highest and lowest Grade\n",
    "Highest_Grade=max(grades)\n",
    "Lowest_Grade=min(grades)\n",
    "print(f\"Highest Grade : {Highest_Grade}\")\n",
    "print(f\"Lowest Grade :{Lowest_Grade}\")"
   ]
  },
  {
   "cell_type": "markdown",
   "metadata": {},
   "source": [
    "##### Example 3: Managing An Inventory\n",
    "- Use a list to manage inventory items in a store"
   ]
  },
  {
   "cell_type": "code",
   "execution_count": 8,
   "metadata": {},
   "outputs": [
    {
     "name": "stdout",
     "output_type": "stream",
     "text": [
      "oranges are in stock\n",
      "Inventory items : \n",
      "-apples\n",
      "-oranges\n",
      "-grapes\n",
      "-strawberries\n"
     ]
    }
   ],
   "source": [
    "# Managing an inventory\n",
    "inventory = [\"apples\", \"bananas\", \"oranges\", \"grapes\"]\n",
    "\n",
    "## Adding item\n",
    "inventory.append('strawberries')\n",
    "\n",
    "## Removing itme\n",
    "inventory.remove(\"bananas\")\n",
    "\n",
    "## Checkin item present in stack or not \n",
    "item=\"oranges\"\n",
    "if item in inventory:\n",
    "    print(f\"{item} are in stock\")\n",
    "else:\n",
    "    print(f\"{item} are not in stock\")\n",
    "\n",
    "## Print the Inventory\n",
    "print(\"Inventory items : \")\n",
    "for item in inventory:\n",
    "    \n",
    "    print(f\"-{item}\")"
   ]
  },
  {
   "cell_type": "markdown",
   "metadata": {},
   "source": [
    "##### Example 4:Collecting User Feedback\n",
    "- Use a list to collect and analyze user feedback."
   ]
  }
 ],
 "metadata": {
  "kernelspec": {
   "display_name": "base",
   "language": "python",
   "name": "python3"
  },
  "language_info": {
   "codemirror_mode": {
    "name": "ipython",
    "version": 3
   },
   "file_extension": ".py",
   "mimetype": "text/x-python",
   "name": "python",
   "nbconvert_exporter": "python",
   "pygments_lexer": "ipython3",
   "version": "3.11.7"
  }
 },
 "nbformat": 4,
 "nbformat_minor": 2
}
